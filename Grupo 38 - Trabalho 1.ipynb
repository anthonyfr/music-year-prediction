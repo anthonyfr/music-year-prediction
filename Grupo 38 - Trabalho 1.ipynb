{
 "cells": [
  {
   "cell_type": "markdown",
   "metadata": {},
   "source": [
    "# Trabalho 1"
   ]
  },
  {
   "cell_type": "markdown",
   "metadata": {},
   "source": [
    "Inicialmente importamos as bibliotecas necessárias"
   ]
  },
  {
   "cell_type": "code",
   "execution_count": 1,
   "metadata": {
    "collapsed": true
   },
   "outputs": [],
   "source": [
    "import matplotlib.pyplot as plt\n",
    "import numpy as np\n",
    "import pandas as pd\n",
    "from sklearn import linear_model\n",
    "from sklearn.metrics import mean_squared_error, r2_score\n",
    "from sklearn.model_selection import train_test_split, cross_val_score\n",
    "from sklearn.preprocessing import PolynomialFeatures\n",
    "from sklearn.pipeline import Pipeline"
   ]
  },
  {
   "cell_type": "markdown",
   "metadata": {},
   "source": [
    "E fazemos a leitura dos dados de treino"
   ]
  },
  {
   "cell_type": "code",
   "execution_count": 2,
   "metadata": {
    "collapsed": true
   },
   "outputs": [],
   "source": [
    "source = open('year-prediction-msd-train.txt', 'r')\n",
    "music_source = np.loadtxt(source, delimiter=',', dtype=None)"
   ]
  },
  {
   "cell_type": "markdown",
   "metadata": {
    "collapsed": true
   },
   "source": [
    "# Regressão Linear"
   ]
  },
  {
   "cell_type": "markdown",
   "metadata": {},
   "source": [
    "## Regressão linear com 12 features"
   ]
  },
  {
   "cell_type": "code",
   "execution_count": 5,
   "metadata": {
    "collapsed": true,
    "scrolled": true
   },
   "outputs": [],
   "source": [
    "years_target = music_source[:, :1]  # Target com os anos a serem determinados\n",
    "musics_data = music_source[:, 1:13] # Data com as 12 primeiras features (timbre average)"
   ]
  },
  {
   "cell_type": "code",
   "execution_count": 6,
   "metadata": {},
   "outputs": [
    {
     "data": {
      "text/plain": [
       "((440529, 12), (23186, 12), (440529, 1), (23186, 1))"
      ]
     },
     "execution_count": 6,
     "metadata": {},
     "output_type": "execute_result"
    }
   ],
   "source": [
    "# Inicialmente fazemos a divisão de para 5% dos dados para validação\n",
    "music_x_train, music_x_validation, music_y_train, music_y_validation =  train_test_split(musics_data, years_target, test_size=0.05, random_state=0)\n",
    "\n",
    "music_x_train.shape, music_x_validation.shape, music_y_train.shape, music_y_validation.shape"
   ]
  },
  {
   "cell_type": "code",
   "execution_count": 7,
   "metadata": {
    "collapsed": true
   },
   "outputs": [],
   "source": [
    "# Cria o objeto de regressão linear\n",
    "regr = linear_model.LinearRegression()"
   ]
  },
  {
   "cell_type": "code",
   "execution_count": 8,
   "metadata": {},
   "outputs": [
    {
     "data": {
      "text/plain": [
       "LinearRegression(copy_X=True, fit_intercept=True, n_jobs=1, normalize=False)"
      ]
     },
     "execution_count": 8,
     "metadata": {},
     "output_type": "execute_result"
    }
   ],
   "source": [
    "# Treina o modelo usando os dados de treino\n",
    "regr.fit(music_x_train, music_y_train)"
   ]
  },
  {
   "cell_type": "code",
   "execution_count": 9,
   "metadata": {
    "collapsed": true
   },
   "outputs": [],
   "source": [
    "# Faz a predição dos dados de validação\n",
    "music_y_pred = regr.predict(music_x_validation)"
   ]
  },
  {
   "cell_type": "code",
   "execution_count": 17,
   "metadata": {},
   "outputs": [
    {
     "name": "stdout",
     "output_type": "stream",
     "text": [
      "Insterceptação estimada:  [ 1964.42016354]\n",
      "Coeficientes:  [[ 0.74691376 -0.05524365 -0.07384323  0.1386006   0.0127031  -0.2150561\n",
      "  -0.06060214 -0.05078559 -0.11673221  0.08932316 -0.44905426  0.04204985]]\n",
      "Mean squared error: 101.35\n",
      "Variância: 0.15\n",
      "Com cross-validation:  [ 0.15791032  0.15709932  0.15513855]\n"
     ]
    }
   ],
   "source": [
    "# Cálculo do ponto estimado de interceptação\n",
    "print 'Insterceptação estimada: ', regr.intercept_\n",
    "\n",
    "# Coeficientes calculados\n",
    "print 'Coeficientes: ', regr.coef_\n",
    "\n",
    "# Média do erro quadrado\n",
    "print 'Mean squared error: %.2f'% mean_squared_error(music_y_validation, music_y_pred)\n",
    "# Variância\n",
    "print 'Variância: %.2f' % r2_score(music_y_validation, music_y_pred)\n",
    "\n",
    "# Usando cross-validation\n",
    "print 'Com cross-validation: ', cross_val_score(regr, musics_data, years_target)"
   ]
  },
  {
   "cell_type": "markdown",
   "metadata": {},
   "source": [
    "## Regressão linear com 30 features"
   ]
  },
  {
   "cell_type": "code",
   "execution_count": 18,
   "metadata": {},
   "outputs": [
    {
     "name": "stdout",
     "output_type": "stream",
     "text": [
      "Insterceptação estimada:  [ 1950.14020499]\n",
      "Coeficientes:  [[  8.96230356e-01  -5.44909434e-02  -4.53279318e-02   3.60627956e-02\n",
      "   -1.05004823e-02  -2.49026361e-01  -1.80993407e-02  -8.06535974e-02\n",
      "   -9.22190471e-02   8.40645456e-02  -1.72762416e-01   1.04722706e-03\n",
      "    3.98835051e-02   4.61707407e-04  -6.26444093e-04   7.02583815e-04\n",
      "    1.05798383e-03   7.33378482e-04   1.23827431e-03   2.87137364e-03\n",
      "   -1.35822816e-03  -8.55303218e-05   7.25587220e-03  -1.81063503e-04\n",
      "   -3.72667458e-03   9.28861603e-05   1.92900190e-03   1.09552535e-03\n",
      "    3.00714132e-03  -1.63903230e-03]]\n",
      "Mean squared error: 95.64\n",
      "Variância: 0.20\n",
      "Com cross-validation:  [ 0.20852582  0.2083705   0.20520028]\n"
     ]
    }
   ],
   "source": [
    "years_target = music_source[:, :1]  # Target com os anos a serem determinados\n",
    "musics_data = music_source[:, 1:31] # Data com as 30 primeiras features (timbre average)\n",
    "\n",
    "# Inicialmente fazemos a divisão de para 5% dos dados para validação\n",
    "music_x_train, music_x_validation, music_y_train, music_y_validation =  train_test_split(musics_data, years_target, test_size=0.05, random_state=0)\n",
    "\n",
    "music_x_train.shape, music_x_validation.shape, music_y_train.shape, music_y_validation.shape\n",
    "\n",
    "# Cria o objeto de regressão linear\n",
    "regr = linear_model.LinearRegression()\n",
    "\n",
    "# Treina o modelo usando os dados de treino\n",
    "regr.fit(music_x_train, music_y_train)\n",
    "\n",
    "# Faz a predição dos dados de validação\n",
    "music_y_pred = regr.predict(music_x_validation)\n",
    "\n",
    "# Cálculo do ponto estimado de interceptação\n",
    "print 'Insterceptação estimada: ', regr.intercept_\n",
    "\n",
    "# Coeficientes calculados\n",
    "print 'Coeficientes: ', regr.coef_\n",
    "\n",
    "# Média do erro quadrado\n",
    "print 'Mean squared error: %.2f'% mean_squared_error(music_y_validation, music_y_pred)\n",
    "# Variância\n",
    "print 'Variância: %.2f' % r2_score(music_y_validation, music_y_pred)\n",
    "\n",
    "# Usando cross-validation\n",
    "print 'Com cross-validation: ', cross_val_score(regr, musics_data, years_target)"
   ]
  },
  {
   "cell_type": "markdown",
   "metadata": {},
   "source": [
    "## Regressão linear com 50 features"
   ]
  },
  {
   "cell_type": "code",
   "execution_count": 19,
   "metadata": {},
   "outputs": [
    {
     "name": "stdout",
     "output_type": "stream",
     "text": [
      "Insterceptação estimada:  [ 1950.94598581]\n",
      "Mean squared error: 93.52\n",
      "Variância: 0.22\n",
      "Com cross-validation:  [ 0.22211833  0.2234312   0.21894938]\n"
     ]
    }
   ],
   "source": [
    "years_target = music_source[:, :1]  # Target com os anos a serem determinados\n",
    "musics_data = music_source[:, 1:51] # Data com as 50 primeiras features (timbre average)\n",
    "\n",
    "# Inicialmente fazemos a divisão de para 5% dos dados para validação\n",
    "music_x_train, music_x_validation, music_y_train, music_y_validation =  train_test_split(musics_data, years_target, test_size=0.05, random_state=0)\n",
    "\n",
    "music_x_train.shape, music_x_validation.shape, music_y_train.shape, music_y_validation.shape\n",
    "\n",
    "# Cria o objeto de regressão linear\n",
    "regr = linear_model.LinearRegression()\n",
    "\n",
    "# Treina o modelo usando os dados de treino\n",
    "regr.fit(music_x_train, music_y_train)\n",
    "\n",
    "# Faz a predição dos dados de validação\n",
    "music_y_pred = regr.predict(music_x_validation)\n",
    "\n",
    "# Cálculo do ponto estimado de interceptação\n",
    "print 'Insterceptação estimada: ', regr.intercept_\n",
    "\n",
    "# Média do erro quadrado\n",
    "print 'Mean squared error: %.2f'% mean_squared_error(music_y_validation, music_y_pred)\n",
    "# Variância\n",
    "print 'Variância: %.2f' % r2_score(music_y_validation, music_y_pred)\n",
    "\n",
    "# Usando cross-validation\n",
    "print 'Com cross-validation: ', cross_val_score(regr, musics_data, years_target)"
   ]
  },
  {
   "cell_type": "markdown",
   "metadata": {},
   "source": [
    "## Regressão linear com 70 features "
   ]
  },
  {
   "cell_type": "code",
   "execution_count": 20,
   "metadata": {},
   "outputs": [
    {
     "name": "stdout",
     "output_type": "stream",
     "text": [
      "Insterceptação estimada:  [ 1950.41583142]\n",
      "Mean squared error: 92.57\n",
      "Variância: 0.23\n",
      "Com cross-validation:  [ 0.23118908  0.23214178  0.22724185]\n"
     ]
    }
   ],
   "source": [
    "years_target = music_source[:, :1]  # Target com os anos a serem determinados\n",
    "musics_data = music_source[:, 1:71] # Data com as 70 primeiras features (timbre average)\n",
    "\n",
    "# Inicialmente fazemos a divisão de para 5% dos dados para validação\n",
    "music_x_train, music_x_validation, music_y_train, music_y_validation =  train_test_split(musics_data, years_target, test_size=0.05, random_state=0)\n",
    "\n",
    "music_x_train.shape, music_x_validation.shape, music_y_train.shape, music_y_validation.shape\n",
    "\n",
    "# Cria o objeto de regressão linear\n",
    "regr = linear_model.LinearRegression()\n",
    "\n",
    "# Treina o modelo usando os dados de treino\n",
    "regr.fit(music_x_train, music_y_train)\n",
    "\n",
    "# Faz a predição dos dados de validação\n",
    "music_y_pred = regr.predict(music_x_validation)\n",
    "\n",
    "# Cálculo do ponto estimado de interceptação\n",
    "print 'Insterceptação estimada: ', regr.intercept_\n",
    "\n",
    "# Média do erro quadrado\n",
    "print 'Mean squared error: %.2f'% mean_squared_error(music_y_validation, music_y_pred)\n",
    "# Variância\n",
    "print 'Variância: %.2f' % r2_score(music_y_validation, music_y_pred)\n",
    "\n",
    "# Usando cross-validation\n",
    "print 'Com cross-validation: ', cross_val_score(regr, musics_data, years_target)"
   ]
  },
  {
   "cell_type": "markdown",
   "metadata": {},
   "source": [
    "## Regressão linear com 90 features "
   ]
  },
  {
   "cell_type": "code",
   "execution_count": 24,
   "metadata": {},
   "outputs": [
    {
     "name": "stdout",
     "output_type": "stream",
     "text": [
      "Insterceptação estimada:  [ 1951.05553508]\n",
      "Mean squared error: 91.50\n",
      "Variância: 0.24\n",
      "Com cross-validation:  [ 0.23818164  0.23900739  0.23385785]\n"
     ]
    }
   ],
   "source": [
    "years_target = music_source[:, :1]  # Target com os anos a serem determinados\n",
    "musics_data = music_source[:, 1:91] # Data com as 90 primeiras features (timbre average)\n",
    "\n",
    "# Inicialmente fazemos a divisão de para 5% dos dados para validação\n",
    "music_x_train, music_x_validation, music_y_train, music_y_validation =  train_test_split(musics_data, years_target, test_size=0.05, random_state=0)\n",
    "\n",
    "music_x_train.shape, music_x_validation.shape, music_y_train.shape, music_y_validation.shape\n",
    "\n",
    "# Cria o objeto de regressão linear\n",
    "regr = linear_model.LinearRegression()\n",
    "\n",
    "# Treina o modelo usando os dados de treino\n",
    "regr.fit(music_x_train, music_y_train)\n",
    "\n",
    "# Faz a predição dos dados de validação\n",
    "music_y_pred = regr.predict(music_x_validation)\n",
    "\n",
    "# Cálculo do ponto estimado de interceptação\n",
    "print 'Insterceptação estimada: ', regr.intercept_\n",
    "\n",
    "# Média do erro quadrado\n",
    "print 'Mean squared error: %.2f'% mean_squared_error(music_y_validation, music_y_pred)\n",
    "\n",
    "# Variância\n",
    "print 'Variância: %.2f' % r2_score(music_y_validation, music_y_pred)\n",
    "\n",
    "# Usando cross-validation\n",
    "print 'Com cross-validation: ', cross_val_score(regr, musics_data, years_target)"
   ]
  },
  {
   "cell_type": "markdown",
   "metadata": {},
   "source": [
    "# Regressão Polinomial"
   ]
  },
  {
   "cell_type": "markdown",
   "metadata": {
    "collapsed": true
   },
   "source": [
    "## Regressão polinomial com 12 features"
   ]
  },
  {
   "cell_type": "code",
   "execution_count": 25,
   "metadata": {},
   "outputs": [
    {
     "data": {
      "text/plain": [
       "((440529, 12), (23186, 12), (440529, 1), (23186, 1))"
      ]
     },
     "execution_count": 25,
     "metadata": {},
     "output_type": "execute_result"
    }
   ],
   "source": [
    "years_target = music_source[:, :1]  # Target com os anos a serem determinados\n",
    "musics_data = music_source[:, 1:13] # Data com as 12 primeiras features (timbre average)\n",
    "\n",
    "# Inicialmente fazemos a divisão de para 5% dos dados para validação\n",
    "music_x_train, music_x_validation, music_y_train, music_y_validation =  train_test_split(musics_data, years_target, test_size=0.05, random_state=0)\n",
    "\n",
    "music_x_train.shape, music_x_validation.shape, music_y_train.shape, music_y_validation.shape"
   ]
  },
  {
   "cell_type": "markdown",
   "metadata": {},
   "source": [
    "### Polinômio grau 2"
   ]
  },
  {
   "cell_type": "code",
   "execution_count": 26,
   "metadata": {
    "collapsed": true
   },
   "outputs": [],
   "source": [
    "model = Pipeline([('poly', PolynomialFeatures(degree=2)), ('linear', linear_model.LinearRegression())])"
   ]
  },
  {
   "cell_type": "code",
   "execution_count": 27,
   "metadata": {},
   "outputs": [
    {
     "data": {
      "text/plain": [
       "Pipeline(memory=None,\n",
       "     steps=[('poly', PolynomialFeatures(degree=2, include_bias=True, interaction_only=False)), ('linear', LinearRegression(copy_X=True, fit_intercept=True, n_jobs=1, normalize=False))])"
      ]
     },
     "execution_count": 27,
     "metadata": {},
     "output_type": "execute_result"
    }
   ],
   "source": [
    "model.fit(music_x_train, music_y_train)"
   ]
  },
  {
   "cell_type": "code",
   "execution_count": 29,
   "metadata": {
    "collapsed": true
   },
   "outputs": [],
   "source": [
    "music_y_pred = model.predict(music_x_validation)"
   ]
  },
  {
   "cell_type": "code",
   "execution_count": 31,
   "metadata": {},
   "outputs": [
    {
     "name": "stdout",
     "output_type": "stream",
     "text": [
      "Insterceptação estimada:  [ 2002.68529307]\n",
      "Coeficientes:  [[  9.62499813e-15  -1.57311203e+00  -2.23818869e-02   2.44744898e-03\n",
      "    4.96151114e-01  -6.79476786e-02  -8.22926714e-01  -3.91702134e-01\n",
      "    7.19136990e-02  -3.74585563e-02  -8.34428598e-02  -1.14853074e+00\n",
      "    3.30931798e-01   3.26642768e-02  -1.26668060e-03  -2.97126663e-03\n",
      "   -8.09806058e-03   2.14631606e-03   1.59570280e-02   7.77831419e-03\n",
      "   -2.63672271e-03  -1.33568967e-03   4.39229513e-03   1.73880016e-02\n",
      "   -6.78704824e-03  -7.95540122e-05  -5.26394823e-05   6.41724499e-04\n",
      "    8.44554257e-05  -1.02695979e-04  -3.54251710e-04   1.29929401e-04\n",
      "   -4.33459165e-04   2.05700227e-03  -5.33692678e-04   2.89369240e-04\n",
      "    1.64585264e-04   1.06104097e-03   4.30713404e-05  -1.75775214e-03\n",
      "   -1.24593865e-03  -5.05241881e-04  -9.59755840e-04   1.50127362e-03\n",
      "   -3.75595413e-03   1.17200754e-03  -4.66182366e-04  -3.65094901e-04\n",
      "   -3.01020055e-04   9.88734763e-04  -2.55653918e-04   6.03775657e-04\n",
      "   -3.26598685e-04   5.21215618e-03  -8.74765762e-04   4.50442519e-04\n",
      "    2.23048902e-03  -2.68275813e-04   1.39646505e-03   2.66036124e-04\n",
      "   -6.20831865e-04   2.13356973e-03  -3.69885290e-04   3.01359175e-03\n",
      "   -4.91550986e-04   3.00369284e-03  -5.94260998e-04   2.99051584e-03\n",
      "   -2.79155634e-04   2.19056616e-04  -2.28975179e-04   1.63312194e-03\n",
      "    5.45958482e-04   1.17660070e-03  -2.05144600e-03   2.84600895e-04\n",
      "   -2.05334937e-03  -6.77411546e-05   7.28492448e-03   6.01563930e-03\n",
      "   -1.05674020e-03  -1.08235254e-04   2.09801320e-03   4.02878668e-03\n",
      "   -1.62446973e-03  -3.51408093e-03  -2.50068992e-03  -1.65617692e-03\n",
      "    6.47833088e-04  -2.06600492e-03   9.83378310e-04]]\n",
      "Mean squared error: 94.92\n",
      "Variância: 0.21\n",
      "Com cross-validation:  [ 0.20706854  0.20726155  0.20583416]\n"
     ]
    }
   ],
   "source": [
    "# Cálculo do ponto estimado de interceptação\n",
    "print 'Insterceptação estimada: ', model.named_steps['linear'].intercept_\n",
    "\n",
    "# Coeficientes calculados\n",
    "print 'Coeficientes: ', model.named_steps['linear'].coef_\n",
    "\n",
    "# Média do erro quadrado\n",
    "print 'Mean squared error: %.2f'% mean_squared_error(music_y_validation, music_y_pred)\n",
    "# Variância\n",
    "print 'Variância: %.2f' % r2_score(music_y_validation, music_y_pred)\n",
    "\n",
    "# Usando cross-validation\n",
    "print 'Com cross-validation: ', cross_val_score(model, musics_data, years_target)"
   ]
  },
  {
   "cell_type": "markdown",
   "metadata": {},
   "source": [
    "### Polinômio grau 3"
   ]
  },
  {
   "cell_type": "code",
   "execution_count": 32,
   "metadata": {
    "collapsed": true
   },
   "outputs": [],
   "source": [
    "model = Pipeline([('poly', PolynomialFeatures(degree=3)), ('linear', linear_model.LinearRegression(n_jobs=-1))])"
   ]
  },
  {
   "cell_type": "code",
   "execution_count": 33,
   "metadata": {},
   "outputs": [
    {
     "data": {
      "text/plain": [
       "Pipeline(memory=None,\n",
       "     steps=[('poly', PolynomialFeatures(degree=3, include_bias=True, interaction_only=False)), ('linear', LinearRegression(copy_X=True, fit_intercept=True, n_jobs=-1, normalize=False))])"
      ]
     },
     "execution_count": 33,
     "metadata": {},
     "output_type": "execute_result"
    }
   ],
   "source": [
    "model.fit(music_x_train, music_y_train)"
   ]
  },
  {
   "cell_type": "code",
   "execution_count": 34,
   "metadata": {
    "collapsed": true
   },
   "outputs": [],
   "source": [
    "music_y_pred = model.predict(music_x_validation)"
   ]
  },
  {
   "cell_type": "code",
   "execution_count": 35,
   "metadata": {},
   "outputs": [
    {
     "name": "stdout",
     "output_type": "stream",
     "text": [
      "Insterceptação estimada:  [ 2040.19207453]\n",
      "Mean squared error: 92.99\n",
      "Variância: 0.22\n",
      "Com cross-validation:  [ 0.21467225  0.22519937  0.22277717]\n"
     ]
    }
   ],
   "source": [
    "# Cálculo do ponto estimado de interceptação\n",
    "print 'Insterceptação estimada: ', model.named_steps['linear'].intercept_\n",
    "\n",
    "# Média do erro quadrado\n",
    "print 'Mean squared error: %.2f'% mean_squared_error(music_y_validation, music_y_pred)\n",
    "# Variância\n",
    "print 'Variância: %.2f' % r2_score(music_y_validation, music_y_pred)\n",
    "\n",
    "# Usando cross-validation\n",
    "print 'Com cross-validation: ', cross_val_score(model, musics_data, years_target)"
   ]
  },
  {
   "cell_type": "markdown",
   "metadata": {},
   "source": [
    "## Regressão polinomial com 30 features"
   ]
  },
  {
   "cell_type": "code",
   "execution_count": 3,
   "metadata": {
    "collapsed": true
   },
   "outputs": [],
   "source": [
    "years_target = music_source[:, :1]  # Target com os anos a serem determinados\n",
    "musics_data = music_source[:, 1:31] # Data com as 30 primeiras features (timbre average)"
   ]
  },
  {
   "cell_type": "code",
   "execution_count": 4,
   "metadata": {},
   "outputs": [
    {
     "data": {
      "text/plain": [
       "((440529, 30), (23186, 30), (440529, 1), (23186, 1))"
      ]
     },
     "execution_count": 4,
     "metadata": {},
     "output_type": "execute_result"
    }
   ],
   "source": [
    "# Inicialmente fazemos a divisão de para 5% dos dados para validação\n",
    "music_x_train, music_x_validation, music_y_train, music_y_validation =  train_test_split(musics_data, years_target, test_size=0.05, random_state=0)\n",
    "\n",
    "music_x_train.shape, music_x_validation.shape, music_y_train.shape, music_y_validation.shape"
   ]
  },
  {
   "cell_type": "markdown",
   "metadata": {},
   "source": [
    "### Polinômio grau 2"
   ]
  },
  {
   "cell_type": "code",
   "execution_count": 5,
   "metadata": {
    "collapsed": true
   },
   "outputs": [],
   "source": [
    "model = Pipeline([('poly', PolynomialFeatures(degree=2)), ('linear', linear_model.LinearRegression(n_jobs=-1))])"
   ]
  },
  {
   "cell_type": "code",
   "execution_count": 6,
   "metadata": {},
   "outputs": [
    {
     "data": {
      "text/plain": [
       "Pipeline(memory=None,\n",
       "     steps=[('poly', PolynomialFeatures(degree=2, include_bias=True, interaction_only=False)), ('linear', LinearRegression(copy_X=True, fit_intercept=True, n_jobs=-1, normalize=False))])"
      ]
     },
     "execution_count": 6,
     "metadata": {},
     "output_type": "execute_result"
    }
   ],
   "source": [
    "model.fit(music_x_train, music_y_train)"
   ]
  },
  {
   "cell_type": "code",
   "execution_count": 7,
   "metadata": {
    "collapsed": true
   },
   "outputs": [],
   "source": [
    "music_y_pred = model.predict(music_x_validation)"
   ]
  },
  {
   "cell_type": "code",
   "execution_count": 8,
   "metadata": {},
   "outputs": [
    {
     "name": "stdout",
     "output_type": "stream",
     "text": [
      "Insterceptação estimada:  [ 1997.89837422]\n",
      "Mean squared error: 87.69\n",
      "Variância: 0.27\n",
      "Com cross-validation:  [ 0.26788244  0.27121509  0.26598703]\n"
     ]
    }
   ],
   "source": [
    "# Cálculo do ponto estimado de interceptação\n",
    "print 'Insterceptação estimada: ', model.named_steps['linear'].intercept_\n",
    "\n",
    "# Média do erro quadrado\n",
    "print 'Mean squared error: %.2f'% mean_squared_error(music_y_validation, music_y_pred)\n",
    "# Variância\n",
    "print 'Variância: %.2f' % r2_score(music_y_validation, music_y_pred)\n",
    "\n",
    "# Usando cross-validation\n",
    "print 'Com cross-validation: ', cross_val_score(model, musics_data, years_target)"
   ]
  }
 ],
 "metadata": {
  "kernelspec": {
   "display_name": "Python 2",
   "language": "python",
   "name": "python2"
  },
  "language_info": {
   "codemirror_mode": {
    "name": "ipython",
    "version": 2
   },
   "file_extension": ".py",
   "mimetype": "text/x-python",
   "name": "python",
   "nbconvert_exporter": "python",
   "pygments_lexer": "ipython2",
   "version": "2.7.12"
  }
 },
 "nbformat": 4,
 "nbformat_minor": 2
}
